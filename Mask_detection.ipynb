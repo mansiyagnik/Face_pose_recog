{
  "cells": [
    {
      "cell_type": "code",
      "execution_count": null,
      "metadata": {
        "id": "MHaUMM0ao_av"
      },
      "outputs": [],
      "source": [
        "import cv2\n",
        "from keras.models import Sequential\n",
        "from keras.layers import Conv2D, Input, ZeroPadding2D, BatchNormalization, Activation, MaxPooling2D, Flatten, Dense,Dropout\n",
        "from keras.models import Model, load_model\n",
        "from keras.callbacks import TensorBoard, ModelCheckpoint, EarlyStopping\n",
        "from sklearn.model_selection import train_test_split\n",
        "from sklearn.metrics import f1_score\n",
        "from sklearn.utils import shuffle\n",
        "import imutils\n",
        "import numpy as np\n",
        "import matplotlib.pyplot as plt\n",
        "from tensorflow.keras.preprocessing.image import ImageDataGenerator"
      ]
    },
    {
      "cell_type": "code",
      "execution_count": null,
      "metadata": {
        "id": "ClNTbo2ypjWX"
      },
      "outputs": [],
      "source": [
        "from keras.optimizers import Adam"
      ]
    },
    {
      "cell_type": "code",
      "execution_count": null,
      "metadata": {
        "colab": {
          "base_uri": "https://localhost:8080/"
        },
        "id": "Khtv23oopqtt",
        "outputId": "417c4feb-3de4-470e-a29b-1668fe724dd1"
      },
      "outputs": [],
      "source": [
        "from google.colab import drive\n",
        "drive.mount('/content/drive')"
      ]
    },
    {
      "cell_type": "markdown",
      "metadata": {
        "id": "cHfVCnKpWmgF"
      },
      "source": [
        "**Model Storage Path**"
      ]
    },
    {
      "cell_type": "code",
      "execution_count": null,
      "metadata": {
        "id": "QW60yO57n6XZ"
      },
      "outputs": [],
      "source": [
        "model_path = '/content/drive/MyDrive/UIElements/mini/mini/model/mask.h5'\n"
      ]
    },
    {
      "cell_type": "markdown",
      "metadata": {
        "id": "M6TuR4qIXC-O"
      },
      "source": [
        "**Load Dataset**"
      ]
    },
    {
      "cell_type": "code",
      "execution_count": null,
      "metadata": {
        "id": "G4IiM8a-CTX-"
      },
      "outputs": [],
      "source": [
        "TRAINING_DIR = \"/content/drive/MyDrive/mini/train/train\"\n",
        "TEST_DIR = \"/content/drive/MyDrive/mini/test/test\"\n"
      ]
    },
    {
      "cell_type": "markdown",
      "metadata": {
        "id": "iUlpycP4XLJw"
      },
      "source": [
        "**Split Data**"
      ]
    },
    {
      "cell_type": "code",
      "execution_count": null,
      "metadata": {
        "colab": {
          "base_uri": "https://localhost:8080/"
        },
        "id": "mtTZkVh-CcXM",
        "outputId": "fd6a399f-5ad5-47b7-a7ef-d4a6bb2f0fbe"
      },
      "outputs": [],
      "source": [
        "train_datagen = ImageDataGenerator(\n",
        "    rescale=1.0/255,\n",
        "    validation_split=0.1,  # 10% for validation\n",
        "    rotation_range=40,\n",
        "    width_shift_range=0.2,\n",
        "    height_shift_range=0.2,\n",
        "    shear_range=0.2,\n",
        "    zoom_range=0.2,\n",
        "    horizontal_flip=True,\n",
        "    fill_mode='nearest'\n",
        ")\n",
        "\n",
        "train_generator = train_datagen.flow_from_directory(\n",
        "    TRAINING_DIR,\n",
        "    target_size=(256, 256),\n",
        "    batch_size=32,\n",
        "    class_mode='sparse',\n",
        "    subset='training',\n",
        "    shuffle=True,\n",
        "    seed=42\n",
        ")\n",
        "\n",
        "validation_generator = train_datagen.flow_from_directory(\n",
        "    TRAINING_DIR,\n",
        "    target_size=(256, 256),\n",
        "    batch_size=32,\n",
        "    class_mode='sparse',\n",
        "    subset='validation',\n",
        "    shuffle=False,\n",
        "    seed=42\n",
        ")\n"
      ]
    },
    {
      "cell_type": "code",
      "execution_count": null,
      "metadata": {
        "colab": {
          "base_uri": "https://localhost:8080/"
        },
        "id": "mxUZc_qICxgt",
        "outputId": "191c53e6-253c-4184-8606-4eb32bd69533"
      },
      "outputs": [],
      "source": [
        "test_datagen = ImageDataGenerator(rescale=1.0/255)\n",
        "\n",
        "test_generator = test_datagen.flow_from_directory(\n",
        "    TEST_DIR,\n",
        "    target_size=(256, 256),\n",
        "    batch_size=32,\n",
        "    class_mode='sparse',\n",
        "    shuffle=False\n",
        ")\n"
      ]
    },
    {
      "cell_type": "markdown",
      "metadata": {
        "id": "HCV57LkbXPpl"
      },
      "source": [
        "**Model**"
      ]
    },
    {
      "cell_type": "code",
      "execution_count": null,
      "metadata": {
        "colab": {
          "base_uri": "https://localhost:8080/",
          "height": 438
        },
        "id": "mrhycpT5psaD",
        "outputId": "5b517dfe-1b03-41f7-c041-b9c616ce60be"
      },
      "outputs": [],
      "source": [
        "model = Sequential([\n",
        "    Conv2D(256, (3,3), activation='relu', input_shape=(256, 256, 3)),\n",
        "    MaxPooling2D(2,2),\n",
        "\n",
        "    Conv2D(256, (3,3), activation='relu'),\n",
        "    MaxPooling2D(2,2),\n",
        "\n",
        "    Flatten(),\n",
        "    Dropout(0.5),\n",
        "    Dense(128, activation='relu'),\n",
        "    Dense(2, activation='softmax')\n",
        "])\n",
        "model.compile(optimizer=Adam(learning_rate=0.0001),\n",
        "              loss='sparse_categorical_crossentropy',\n",
        "              metrics=['accuracy'])\n",
        "\n",
        "model.summary()"
      ]
    },
    {
      "cell_type": "code",
      "execution_count": null,
      "metadata": {
        "colab": {
          "base_uri": "https://localhost:8080/"
        },
        "id": "DmN2Ih3_vSie",
        "outputId": "9b794a50-b7fc-4dad-e77c-2fab411d0938"
      },
      "outputs": [],
      "source": [
        "from sklearn.metrics import accuracy_score\n",
        "from sklearn.metrics import accuracy_score, precision_score, recall_score, f1_score, classification_report\n",
        "\n",
        "from sklearn import metrics\n",
        "\n",
        "\n",
        "checkpoint = ModelCheckpoint(model_path,monitor='val_loss',verbose=1,save_best_only=True,mode='auto')\n",
        "\n",
        "# early_stopping = EarlyStopping(monitor='val_loss', patience=15, restore_best_weights=True)\n",
        "\n",
        "\n",
        "history = model.fit(train_generator,\n",
        "                              epochs=100,\n",
        "                              validation_data=validation_generator,\n",
        "                              callbacks=[checkpoint])\n",
        "\n",
        "test_generator.reset()\n",
        "predictions = np.argmax(model.predict(test_generator), axis=-1)\n",
        "true_labels = test_generator.classes\n",
        "\n",
        "# Metrics\n",
        "accuracy = accuracy_score(true_labels, predictions)\n",
        "print(\"Face Recognition Accuracy:\", accuracy)\n",
        "\n",
        "precision_scores = precision_score(true_labels, predictions, average=None)\n",
        "print(\"Precision per class:\", precision_scores)\n",
        "print(\"Mean Precision:\", precision_scores.mean())\n",
        "\n",
        "recall_scores = recall_score(true_labels, predictions, average=None)\n",
        "print(\"Recall per class:\", recall_scores)\n",
        "print(\"Mean Recall:\", recall_scores.mean())\n",
        "\n",
        "f1_scores = f1_score(true_labels, predictions, average=None)\n",
        "print(\"F1 Score per class:\", f1_scores)\n",
        "print(\"Mean F1 Score:\", f1_scores.mean())\n",
        "\n",
        "\n",
        "print(\"Classification Report:\")\n",
        "print(classification_report(true_labels, predictions, target_names=test_generator.class_indices.keys()))\n"
      ]
    },
    {
      "cell_type": "code",
      "execution_count": null,
      "metadata": {
        "colab": {
          "base_uri": "https://localhost:8080/",
          "height": 507
        },
        "id": "0KxXuxDrvYcY",
        "outputId": "9ad4bf6a-2528-41b9-9a20-36aea6b8595e"
      },
      "outputs": [],
      "source": [
        "import matplotlib.pyplot as plt\n",
        "\n",
        "# Plot training & validation accuracy\n",
        "plt.figure(figsize=(12, 5))\n",
        "\n",
        "# Accuracy Plot\n",
        "plt.subplot(1, 2, 1)\n",
        "plt.plot(history.history['accuracy'], label='Train Accuracy')\n",
        "plt.plot(history.history['val_accuracy'], label='Validation Accuracy')\n",
        "plt.title('Model Accuracy Over Epochs')\n",
        "plt.xlabel('Epoch')\n",
        "plt.ylabel('Accuracy')\n",
        "plt.legend()\n",
        "\n",
        "# Loss Plot\n",
        "plt.subplot(1, 2, 2)\n",
        "plt.plot(history.history['loss'], label='Train Loss')\n",
        "plt.plot(history.history['val_loss'], label='Validation Loss')\n",
        "plt.title('Model Loss Over Epochs')\n",
        "plt.xlabel('Epoch')\n",
        "plt.ylabel('Loss')\n",
        "plt.legend()\n",
        "\n",
        "plt.tight_layout()\n",
        "plt.show()\n"
      ]
    },
    {
      "cell_type": "markdown",
      "metadata": {
        "id": "NyZkUVr1XdYa"
      },
      "source": [
        "Test Accuracy and Confusion matrix"
      ]
    },
    {
      "cell_type": "code",
      "execution_count": null,
      "metadata": {
        "colab": {
          "base_uri": "https://localhost:8080/",
          "height": 765
        },
        "id": "MRXkv5R27FE4",
        "outputId": "8e5e118c-11cf-4379-cdee-ef3deef1b419"
      },
      "outputs": [],
      "source": [
        "from tensorflow.keras.models import load_model\n",
        "import numpy as np\n",
        "from sklearn.metrics import accuracy_score, precision_score, recall_score, f1_score, confusion_matrix, classification_report\n",
        "import matplotlib.pyplot as plt\n",
        "import seaborn as sns\n",
        "\n",
        "# Load the best model\n",
        "model = load_model('/content/drive/MyDrive/UIElements/mini/mini/model/finalmask1.h5')\n",
        "\n",
        "# Predict on test data\n",
        "test_generator.reset()\n",
        "predictions = np.argmax(model.predict(test_generator), axis=-1)\n",
        "\n",
        "# True labels\n",
        "true_labels = test_generator.classes\n",
        "class_labels = list(test_generator.class_indices.keys())\n",
        "\n",
        "# Evaluation metrics\n",
        "accuracy = accuracy_score(true_labels, predictions)\n",
        "print(\"Test Accuracy:\", accuracy)\n",
        "\n",
        "precision = precision_score(true_labels, predictions, average=None)\n",
        "recall = recall_score(true_labels, predictions, average=None)\n",
        "f1 = f1_score(true_labels, predictions, average=None)\n",
        "\n",
        "print(\"Precision:\", precision)\n",
        "print(\"Recall:\", recall)\n",
        "print(\"F1 Score:\", f1)\n",
        "print(\"Classification Report:\\n\", classification_report(true_labels, predictions, target_names=class_labels))\n",
        "\n",
        "# Confusion matrix\n",
        "conf_matrix = confusion_matrix(true_labels, predictions)\n",
        "plt.figure(figsize=(6, 5))\n",
        "sns.heatmap(conf_matrix, annot=True, fmt='d', cmap='Blues',\n",
        "            xticklabels=class_labels, yticklabels=class_labels)\n",
        "plt.xlabel('Predicted')\n",
        "plt.ylabel('True')\n",
        "plt.title('Confusion Matrix')\n",
        "plt.show()\n"
      ]
    },
    {
      "cell_type": "code",
      "execution_count": null,
      "metadata": {
        "id": "D0D_LOpkpYZt"
      },
      "outputs": [],
      "source": []
    }
  ],
  "metadata": {
    "accelerator": "GPU",
    "colab": {
      "gpuType": "T4",
      "provenance": []
    },
    "kernelspec": {
      "display_name": "Python 3",
      "name": "python3"
    },
    "language_info": {
      "name": "python"
    }
  },
  "nbformat": 4,
  "nbformat_minor": 0
}
